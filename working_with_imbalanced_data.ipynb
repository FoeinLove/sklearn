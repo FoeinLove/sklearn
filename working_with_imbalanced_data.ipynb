{
 "cells": [
  {
   "cell_type": "markdown",
   "metadata": {},
   "source": [
    "# Working_with_Imbalanced_Data"
   ]
  },
  {
   "cell_type": "code",
   "execution_count": null,
   "metadata": {},
   "outputs": [],
   "source": [
    "from sklearn.datasets import fetch_openml\n",
    "import numpy as np\n",
    "\n",
    "data = fetch_openml('mammography')\n",
    "x,y = data.data,data.target\n",
    "y = (y.astype(np.int)+1)//2\n",
    "x.shape"
   ]
  },
  {
   "cell_type": "code",
   "execution_count": 35,
   "metadata": {},
   "outputs": [
    {
     "data": {
      "text/plain": [
       "array([10923,   260])"
      ]
     },
     "execution_count": 35,
     "metadata": {},
     "output_type": "execute_result"
    }
   ],
   "source": [
    "np.bincount(y)"
   ]
  },
  {
   "cell_type": "code",
   "execution_count": 36,
   "metadata": {},
   "outputs": [],
   "source": [
    "from sklearn.model_selection import train_test_split\n",
    "x_train,x_test,y_train,y_test = train_test_split(x,y,stratify=y,random_state=0)"
   ]
  },
  {
   "cell_type": "markdown",
   "metadata": {},
   "source": [
    "# baseline"
   ]
  },
  {
   "cell_type": "code",
   "execution_count": 48,
   "metadata": {},
   "outputs": [
    {
     "data": {
      "text/plain": [
       "(0.92, 0.629)"
      ]
     },
     "execution_count": 48,
     "metadata": {},
     "output_type": "execute_result"
    }
   ],
   "source": [
    "import warnings\n",
    "warnings.filterwarnings(\"ignore\")\n",
    "from sklearn.model_selection import cross_validate\n",
    "from sklearn.linear_model import LogisticRegression\n",
    "\n",
    "scores = cross_validate(LogisticRegression(),\n",
    "                       x_train,y_train,cv=10,\n",
    "                       scoring=('roc_auc','average_precision'))\n",
    "round(scores['test_roc_auc'].mean(),3),round(scores['test_average_precision'].mean(),3)"
   ]
  },
  {
   "cell_type": "code",
   "execution_count": 49,
   "metadata": {},
   "outputs": [
    {
     "data": {
      "text/plain": [
       "(0.948, 0.726)"
      ]
     },
     "execution_count": 49,
     "metadata": {},
     "output_type": "execute_result"
    }
   ],
   "source": [
    "from sklearn.ensemble import RandomForestClassifier\n",
    "scores = cross_validate(RandomForestClassifier(n_estimators=100),\n",
    "                       x_train,y_train,cv=10,\n",
    "                       scoring=('roc_auc','average_precision'))\n",
    "round(scores['test_roc_auc'].mean(),3),round(scores['test_average_precision'].mean(),3)"
   ]
  },
  {
   "cell_type": "markdown",
   "metadata": {},
   "source": [
    "# Random Undersampling"
   ]
  },
  {
   "cell_type": "code",
   "execution_count": 39,
   "metadata": {},
   "outputs": [
    {
     "name": "stdout",
     "output_type": "stream",
     "text": [
      "(8387, 6)\n",
      "(390, 6)\n",
      "[195 195]\n"
     ]
    }
   ],
   "source": [
    "from imblearn.under_sampling import RandomUnderSampler\n",
    "rus = RandomUnderSampler(replacement=False)\n",
    "x_train_subsample,y_train_subsample = rus.fit_sample(x_train,y_train)\n",
    "print(x_train.shape)\n",
    "print(x_train_subsample.shape)\n",
    "print(np.bincount(y_train_subsample))"
   ]
  },
  {
   "cell_type": "code",
   "execution_count": 59,
   "metadata": {},
   "outputs": [
    {
     "data": {
      "text/plain": [
       "(0.921, 0.933)"
      ]
     },
     "execution_count": 59,
     "metadata": {},
     "output_type": "execute_result"
    }
   ],
   "source": [
    "scores = cross_validate(LogisticRegression(),\n",
    "                       x_train_subsample,y_train_subsample,cv=10,\n",
    "                       scoring=('roc_auc','average_precision'))\n",
    "round(scores['test_roc_auc'].mean(),3),round(scores['test_average_precision'].mean(),3)\n",
    "# baseline was 0.92, 0.629"
   ]
  },
  {
   "cell_type": "code",
   "execution_count": 58,
   "metadata": {},
   "outputs": [
    {
     "data": {
      "text/plain": [
       "(0.955, 0.965)"
      ]
     },
     "execution_count": 58,
     "metadata": {},
     "output_type": "execute_result"
    }
   ],
   "source": [
    "scores = cross_validate(RandomForestClassifier(n_estimators=100),\n",
    "                       x_train_subsample,y_train_subsample,cv=10,\n",
    "                       scoring=('roc_auc','average_precision'))\n",
    "round(scores['test_roc_auc'].mean(),3),round(scores['test_average_precision'].mean(),3)\n",
    "# baseline was 0.948, 0.726"
   ]
  },
  {
   "cell_type": "markdown",
   "metadata": {},
   "source": [
    "# Random Oversampling"
   ]
  },
  {
   "cell_type": "code",
   "execution_count": 21,
   "metadata": {},
   "outputs": [
    {
     "name": "stdout",
     "output_type": "stream",
     "text": [
      "(8387, 6)\n",
      "(16384, 6)\n",
      "[8192 8192]\n"
     ]
    }
   ],
   "source": [
    "from imblearn.over_sampling import RandomOverSampler\n",
    "ros = RandomOverSampler()\n",
    "x_train_oversample,y_train_oversample = ros.fit_sample(x_train,y_train)\n",
    "print(x_train.shape)\n",
    "print(x_train_oversample.shape)\n",
    "print(np.bincount(y_train_oversample))"
   ]
  },
  {
   "cell_type": "code",
   "execution_count": 61,
   "metadata": {},
   "outputs": [
    {
     "data": {
      "text/plain": [
       "(0.92, 0.937)"
      ]
     },
     "execution_count": 61,
     "metadata": {},
     "output_type": "execute_result"
    }
   ],
   "source": [
    "scores = cross_validate(LogisticRegression(),\n",
    "                       x_train_oversample,y_train_oversample,cv=10,\n",
    "                       scoring=('roc_auc','average_precision'))\n",
    "round(scores['test_roc_auc'].mean(),3),round(scores['test_average_precision'].mean(),3)\n",
    "# baseline was 0.92, 0.629"
   ]
  },
  {
   "cell_type": "code",
   "execution_count": 63,
   "metadata": {},
   "outputs": [
    {
     "data": {
      "text/plain": [
       "(0.994, 0.992)"
      ]
     },
     "execution_count": 63,
     "metadata": {},
     "output_type": "execute_result"
    }
   ],
   "source": [
    "scores = cross_validate(RandomForestClassifier(n_estimators=100),\n",
    "                       x_train_oversample,y_train_oversample,cv=10,\n",
    "                       scoring=('roc_auc','average_precision'))\n",
    "round(scores['test_roc_auc'].mean(),3),round(scores['test_average_precision'].mean(),3)\n",
    "# baseline was 0.948, 0.726"
   ]
  },
  {
   "cell_type": "markdown",
   "metadata": {},
   "source": [
    "# Class-Weights Method"
   ]
  },
  {
   "cell_type": "code",
   "execution_count": 67,
   "metadata": {},
   "outputs": [
    {
     "data": {
      "text/plain": [
       "(0.918, 0.587)"
      ]
     },
     "execution_count": 67,
     "metadata": {},
     "output_type": "execute_result"
    }
   ],
   "source": [
    "scores = cross_validate(LogisticRegression(class_weight='balanced'),\n",
    "                       x_train,y_train,cv=10,\n",
    "                       scoring=('roc_auc','average_precision'))\n",
    "round(scores['test_roc_auc'].mean(),3),round(scores['test_average_precision'].mean(),3)"
   ]
  },
  {
   "cell_type": "code",
   "execution_count": 70,
   "metadata": {},
   "outputs": [
    {
     "data": {
      "text/plain": [
       "(0.921, 0.704)"
      ]
     },
     "execution_count": 70,
     "metadata": {},
     "output_type": "execute_result"
    }
   ],
   "source": [
    "scores = cross_validate(RandomForestClassifier(n_estimators=100,\n",
    "                                              class_weight='balanced'),\n",
    "                       x_train,y_train,cv=10,\n",
    "                       scoring=('roc_auc','average_precision'))\n",
    "round(scores['test_roc_auc'].mean(),3),round(scores['test_average_precision'].mean(),3)"
   ]
  },
  {
   "cell_type": "markdown",
   "metadata": {},
   "source": [
    "# Easy Ensemble with imblearn"
   ]
  },
  {
   "cell_type": "code",
   "execution_count": 71,
   "metadata": {},
   "outputs": [
    {
     "data": {
      "text/plain": [
       "(0.955, 0.645)"
      ]
     },
     "execution_count": 71,
     "metadata": {},
     "output_type": "execute_result"
    }
   ],
   "source": [
    "from sklearn.tree import DecisionTreeClassifier\n",
    "from imblearn.ensemble import BalancedBaggingClassifier\n",
    "\n",
    "#from imblearn.ensemble import BalancedRandomForestClassifier\n",
    "#resampled_rf = BalancedRandomForestClassifier()\n",
    "\n",
    "tree = DecisionTreeClassifier(max_features='auto')\n",
    "resample_rf = BalancedBaggingClassifier(base_estimator=tree,\n",
    "                                       n_estimators=100,random_state=0)\n",
    "\n",
    "scores = cross_validate(resample_rf,\n",
    "                       x_train,y_train,cv=10,\n",
    "                       scoring=('roc_auc','average_precision'))\n",
    "round(scores['test_roc_auc'].mean(),3),round(scores['test_average_precision'].mean(),3)"
   ]
  },
  {
   "cell_type": "markdown",
   "metadata": {},
   "source": [
    "# Edited Nearest Neighbours"
   ]
  },
  {
   "cell_type": "code",
   "execution_count": 73,
   "metadata": {},
   "outputs": [],
   "source": [
    "from imblearn.under_sampling import EditedNearestNeighbours\n",
    "enn = EditedNearestNeighbours(n_neighbors=5)\n",
    "x_train_enn,y_train_enn = enn.fit_sample(x_train,y_train)"
   ]
  },
  {
   "cell_type": "code",
   "execution_count": 74,
   "metadata": {},
   "outputs": [
    {
     "name": "stdout",
     "output_type": "stream",
     "text": [
      "(8387, 6)\n",
      "(8146, 6)\n",
      "[7951  195]\n"
     ]
    }
   ],
   "source": [
    "print(x_train.shape)\n",
    "print(x_train_enn.shape)\n",
    "print(np.bincount(y_train_enn))"
   ]
  },
  {
   "cell_type": "code",
   "execution_count": 77,
   "metadata": {},
   "outputs": [],
   "source": [
    "from imblearn.under_sampling import EditedNearestNeighbours\n",
    "enn_mode = EditedNearestNeighbours(kind_sel='mode',n_neighbors=5)\n",
    "x_train_enn_mode,y_train_enn_mode = enn_mode.fit_sample(x_train,y_train)"
   ]
  },
  {
   "cell_type": "code",
   "execution_count": 80,
   "metadata": {},
   "outputs": [
    {
     "name": "stdout",
     "output_type": "stream",
     "text": [
      "(8387, 6)\n",
      "(8356, 6)\n",
      "[8161  195]\n"
     ]
    }
   ],
   "source": [
    "print(x_train.shape)\n",
    "print(x_train_enn_mode.shape)\n",
    "print(np.bincount(y_train_enn_mode))"
   ]
  },
  {
   "cell_type": "code",
   "execution_count": 82,
   "metadata": {},
   "outputs": [
    {
     "data": {
      "text/plain": [
       "(0.92, 0.627)"
      ]
     },
     "execution_count": 82,
     "metadata": {},
     "output_type": "execute_result"
    }
   ],
   "source": [
    "enn_pipe = make_imb_pipeline(EditedNearestNeighbours(n_neighbors=5),\n",
    "                             LogisticRegression())\n",
    "scores = cross_validate(enn_pipe, x_train, y_train, cv=10,\n",
    "                        scoring=('roc_auc', 'average_precision'))\n",
    "round(scores['test_roc_auc'].mean(),3),round(scores['test_average_precision'].mean(),3)"
   ]
  },
  {
   "cell_type": "code",
   "execution_count": 83,
   "metadata": {},
   "outputs": [
    {
     "data": {
      "text/plain": [
       "(0.943, 0.696)"
      ]
     },
     "execution_count": 83,
     "metadata": {},
     "output_type": "execute_result"
    }
   ],
   "source": [
    "enn_pipe_rf = make_imb_pipeline(EditedNearestNeighbours(n_neighbors= 5),\n",
    "                                RandomForestClassifier(n_estimators=100))\n",
    "scores = cross_validate(enn_pipe_rf, x_train, y_train, cv=10,\n",
    "                        scoring=('roc_auc', 'average_precision'))\n",
    "round(scores['test_roc_auc'].mean(),3),round(scores['test_average_precision'].mean(),3)"
   ]
  },
  {
   "cell_type": "markdown",
   "metadata": {},
   "source": [
    "# SMOTE"
   ]
  },
  {
   "cell_type": "code",
   "execution_count": 88,
   "metadata": {},
   "outputs": [
    {
     "data": {
      "text/plain": [
       "(0.919, 0.59)"
      ]
     },
     "execution_count": 88,
     "metadata": {},
     "output_type": "execute_result"
    }
   ],
   "source": [
    "from imblearn.over_sampling import SMOTE\n",
    "smote_pipe = make_imb_pipeline(SMOTE(), LogisticRegression())\n",
    "scores = cross_validate(smote_pipe, x_train, y_train, cv=10,\n",
    "                        scoring=('roc_auc', 'average_precision'))\n",
    "round(scores['test_roc_auc'].mean(),3),round(scores['test_average_precision'].mean(),3)"
   ]
  },
  {
   "cell_type": "code",
   "execution_count": 92,
   "metadata": {},
   "outputs": [
    {
     "data": {
      "text/plain": [
       "(0.949, 0.692)"
      ]
     },
     "execution_count": 92,
     "metadata": {},
     "output_type": "execute_result"
    }
   ],
   "source": [
    "from imblearn.over_sampling import SMOTE\n",
    "smote_pipe_rf = make_imb_pipeline(SMOTE(), RandomForestClassifier(n_estimators=100))\n",
    "scores = cross_validate(smote_pipe, x_train, y_train, cv=10,\n",
    "                        scoring=('roc_auc', 'average_precision'))\n",
    "round(scores['test_roc_auc'].mean(),3),round(scores['test_average_precision'].mean(),3)"
   ]
  },
  {
   "cell_type": "markdown",
   "metadata": {},
   "source": [
    "# Summary\n",
    "\n",
    "### 1.Always check roc_auc an AP, look at curves\n",
    "\n",
    "### 2.Undersampling is very fast and can help!\n",
    "\n",
    "### 3.Undersampling+Ensembles worth a try.\n",
    "\n",
    "### 4.Many smart sampling strategies,mixed outcomes\n",
    "\n",
    "### 5.SMOTE allows adding new interpolated samples\n",
    "\n",
    "### 6.Mixed outcomes with SMOTE,also definition a bit unclear"
   ]
  },
  {
   "cell_type": "code",
   "execution_count": null,
   "metadata": {},
   "outputs": [],
   "source": []
  }
 ],
 "metadata": {
  "kernelspec": {
   "display_name": "Python 3",
   "language": "python",
   "name": "python3"
  },
  "language_info": {
   "codemirror_mode": {
    "name": "ipython",
    "version": 3
   },
   "file_extension": ".py",
   "mimetype": "text/x-python",
   "name": "python",
   "nbconvert_exporter": "python",
   "pygments_lexer": "ipython3",
   "version": "3.6.6"
  }
 },
 "nbformat": 4,
 "nbformat_minor": 2
}
