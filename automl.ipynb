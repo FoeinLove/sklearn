{
 "cells": [
  {
   "cell_type": "code",
   "execution_count": 1,
   "metadata": {},
   "outputs": [],
   "source": [
    "from sklearn import datasets"
   ]
  },
  {
   "cell_type": "code",
   "execution_count": 2,
   "metadata": {},
   "outputs": [],
   "source": [
    "iris = datasets.load_iris()"
   ]
  },
  {
   "cell_type": "code",
   "execution_count": 3,
   "metadata": {},
   "outputs": [],
   "source": [
    "x,y = datasets.load_iris(return_X_y=True)"
   ]
  },
  {
   "cell_type": "code",
   "execution_count": 4,
   "metadata": {},
   "outputs": [],
   "source": [
    "import pandas as pd"
   ]
  },
  {
   "cell_type": "code",
   "execution_count": 5,
   "metadata": {},
   "outputs": [],
   "source": [
    "x = pd.DataFrame(x,columns=iris.feature_names)\n",
    "y = pd.DataFrame(y,columns=['target'])\n",
    "df = pd.concat([x,y],axis=1)"
   ]
  },
  {
   "cell_type": "code",
   "execution_count": 6,
   "metadata": {},
   "outputs": [],
   "source": [
    "df.target = df.target.astype(str)"
   ]
  },
  {
   "cell_type": "code",
   "execution_count": 7,
   "metadata": {},
   "outputs": [
    {
     "data": {
      "text/html": [
       "<div>\n",
       "<style scoped>\n",
       "    .dataframe tbody tr th:only-of-type {\n",
       "        vertical-align: middle;\n",
       "    }\n",
       "\n",
       "    .dataframe tbody tr th {\n",
       "        vertical-align: top;\n",
       "    }\n",
       "\n",
       "    .dataframe thead th {\n",
       "        text-align: right;\n",
       "    }\n",
       "</style>\n",
       "<table border=\"1\" class=\"dataframe\">\n",
       "  <thead>\n",
       "    <tr style=\"text-align: right;\">\n",
       "      <th></th>\n",
       "      <th>sepal length (cm)</th>\n",
       "      <th>sepal width (cm)</th>\n",
       "      <th>petal length (cm)</th>\n",
       "      <th>petal width (cm)</th>\n",
       "      <th>target</th>\n",
       "    </tr>\n",
       "  </thead>\n",
       "  <tbody>\n",
       "    <tr>\n",
       "      <td>0</td>\n",
       "      <td>5.1</td>\n",
       "      <td>3.5</td>\n",
       "      <td>1.4</td>\n",
       "      <td>0.2</td>\n",
       "      <td>0</td>\n",
       "    </tr>\n",
       "    <tr>\n",
       "      <td>1</td>\n",
       "      <td>4.9</td>\n",
       "      <td>3.0</td>\n",
       "      <td>1.4</td>\n",
       "      <td>0.2</td>\n",
       "      <td>0</td>\n",
       "    </tr>\n",
       "    <tr>\n",
       "      <td>2</td>\n",
       "      <td>4.7</td>\n",
       "      <td>3.2</td>\n",
       "      <td>1.3</td>\n",
       "      <td>0.2</td>\n",
       "      <td>0</td>\n",
       "    </tr>\n",
       "    <tr>\n",
       "      <td>3</td>\n",
       "      <td>4.6</td>\n",
       "      <td>3.1</td>\n",
       "      <td>1.5</td>\n",
       "      <td>0.2</td>\n",
       "      <td>0</td>\n",
       "    </tr>\n",
       "    <tr>\n",
       "      <td>4</td>\n",
       "      <td>5.0</td>\n",
       "      <td>3.6</td>\n",
       "      <td>1.4</td>\n",
       "      <td>0.2</td>\n",
       "      <td>0</td>\n",
       "    </tr>\n",
       "  </tbody>\n",
       "</table>\n",
       "</div>"
      ],
      "text/plain": [
       "   sepal length (cm)  sepal width (cm)  petal length (cm)  petal width (cm)  \\\n",
       "0                5.1               3.5                1.4               0.2   \n",
       "1                4.9               3.0                1.4               0.2   \n",
       "2                4.7               3.2                1.3               0.2   \n",
       "3                4.6               3.1                1.5               0.2   \n",
       "4                5.0               3.6                1.4               0.2   \n",
       "\n",
       "  target  \n",
       "0      0  \n",
       "1      0  \n",
       "2      0  \n",
       "3      0  \n",
       "4      0  "
      ]
     },
     "execution_count": 7,
     "metadata": {},
     "output_type": "execute_result"
    }
   ],
   "source": [
    "df.head()"
   ]
  },
  {
   "cell_type": "markdown",
   "metadata": {},
   "source": [
    "# Data cleaning "
   ]
  },
  {
   "cell_type": "code",
   "execution_count": 8,
   "metadata": {},
   "outputs": [
    {
     "name": "stdout",
     "output_type": "stream",
     "text": [
      "Detected feature types:\n",
      "4 float, 0 int, 1 object, 0 date, 0 other\n",
      "Interpreted as:\n",
      "continuous      5\n",
      "dirty_float     0\n",
      "low_card_int    0\n",
      "categorical     0\n",
      "date            0\n",
      "free_string     0\n",
      "useless         0\n",
      "dtype: int64\n"
     ]
    }
   ],
   "source": [
    "import dabl\n",
    "clean_df = dabl.clean(df,verbose=2)"
   ]
  },
  {
   "cell_type": "markdown",
   "metadata": {},
   "source": [
    "# Preprocessing"
   ]
  },
  {
   "cell_type": "code",
   "execution_count": 9,
   "metadata": {},
   "outputs": [],
   "source": [
    "ep = dabl.EasyPreprocessor().fit(x,y)"
   ]
  },
  {
   "cell_type": "code",
   "execution_count": 10,
   "metadata": {},
   "outputs": [
    {
     "data": {
      "text/plain": [
       "ColumnTransformer(n_jobs=None, remainder='drop', sparse_threshold=0.1,\n",
       "                  transformer_weights=None,\n",
       "                  transformers=[('continuous',\n",
       "                                 Pipeline(memory=None,\n",
       "                                          steps=[('simpleimputer',\n",
       "                                                  SimpleImputer(add_indicator=False,\n",
       "                                                                copy=True,\n",
       "                                                                fill_value=None,\n",
       "                                                                missing_values=nan,\n",
       "                                                                strategy='median',\n",
       "                                                                verbose=0)),\n",
       "                                                 ('standardscaler',\n",
       "                                                  StandardScaler(copy=True,\n",
       "                                                                 with_mean=True,\n",
       "                                                                 with_std=True))],\n",
       "                                          verbose=False),\n",
       "                                 sepal length (cm)    True\n",
       "sepal width (cm)     True\n",
       "petal length (cm)    True\n",
       "petal width (cm)     True\n",
       "Name: continuous, dtype: bool)],\n",
       "                  verbose=False)"
      ]
     },
     "execution_count": 10,
     "metadata": {},
     "output_type": "execute_result"
    }
   ],
   "source": [
    "ep.ct_"
   ]
  },
  {
   "cell_type": "markdown",
   "metadata": {},
   "source": [
    "# Simple Prototypes"
   ]
  },
  {
   "cell_type": "code",
   "execution_count": 11,
   "metadata": {},
   "outputs": [
    {
     "name": "stdout",
     "output_type": "stream",
     "text": [
      "Running DummyClassifier(strategy='prior')\n",
      "accuracy: 0.333 recall_macro: 0.333 precision_macro: 0.111 f1_macro: 0.167\n",
      "=== new best DummyClassifier(strategy='prior') (using recall_macro):\n",
      "accuracy: 0.333 recall_macro: 0.333 precision_macro: 0.111 f1_macro: 0.167\n",
      "\n",
      "Running GaussianNB()\n",
      "accuracy: 0.953 recall_macro: 0.953 precision_macro: 0.958 f1_macro: 0.953\n",
      "=== new best GaussianNB() (using recall_macro):\n",
      "accuracy: 0.953 recall_macro: 0.953 precision_macro: 0.958 f1_macro: 0.953\n",
      "\n",
      "Running MultinomialNB()\n",
      "accuracy: 0.793 recall_macro: 0.793 precision_macro: 0.802 f1_macro: 0.790\n",
      "Running DecisionTreeClassifier(class_weight='balanced', max_depth=1)\n",
      "accuracy: 0.667 recall_macro: 0.667 precision_macro: 0.500 f1_macro: 0.556\n",
      "Running DecisionTreeClassifier(class_weight='balanced', max_depth=5)\n",
      "accuracy: 0.960 recall_macro: 0.960 precision_macro: 0.962 f1_macro: 0.960\n",
      "=== new best DecisionTreeClassifier(class_weight='balanced', max_depth=5) (using recall_macro):\n",
      "accuracy: 0.960 recall_macro: 0.960 precision_macro: 0.962 f1_macro: 0.960\n",
      "\n",
      "Running DecisionTreeClassifier(class_weight='balanced', min_impurity_decrease=0.01)\n",
      "accuracy: 0.967 recall_macro: 0.967 precision_macro: 0.968 f1_macro: 0.967\n",
      "=== new best DecisionTreeClassifier(class_weight='balanced', min_impurity_decrease=0.01) (using recall_macro):\n",
      "accuracy: 0.967 recall_macro: 0.967 precision_macro: 0.968 f1_macro: 0.967\n",
      "\n",
      "Running LogisticRegression(C=0.1, class_weight='balanced', solver='lbfgs')\n",
      "accuracy: 0.927 recall_macro: 0.927 precision_macro: 0.933 f1_macro: 0.926\n",
      "\n",
      "Best model:\n",
      "DecisionTreeClassifier(class_weight='balanced', min_impurity_decrease=0.01)\n",
      "Best Scores:\n",
      "accuracy: 0.967 recall_macro: 0.967 precision_macro: 0.968 f1_macro: 0.967\n"
     ]
    },
    {
     "data": {
      "text/plain": [
       "SimpleClassifier(random_state=None, refit=True, verbose=1)"
      ]
     },
     "execution_count": 11,
     "metadata": {},
     "output_type": "execute_result"
    }
   ],
   "source": [
    "from dabl import SimpleClassifier\n",
    "SimpleClassifier().fit(df,target_col='target')"
   ]
  },
  {
   "cell_type": "markdown",
   "metadata": {},
   "source": [
    "# Automatic Model Search"
   ]
  },
  {
   "cell_type": "code",
   "execution_count": 12,
   "metadata": {},
   "outputs": [
    {
     "name": "stdout",
     "output_type": "stream",
     "text": [
      "best classifier:  LogisticRegression(C=1, class_weight=None, dual=False, fit_intercept=True,\n",
      "                   intercept_scaling=1, l1_ratio=None, max_iter=100,\n",
      "                   multi_class='multinomial', n_jobs=None, penalty='l2',\n",
      "                   random_state=None, solver='lbfgs', tol=0.0001, verbose=0,\n",
      "                   warm_start=False)\n",
      "best score: 0.967\n"
     ]
    }
   ],
   "source": [
    "from dabl.models import AnyClassifier\n",
    "from sklearn.model_selection import train_test_split\n",
    "df_train,df_test = train_test_split(df)\n",
    "ac = AnyClassifier().fit(df_train,target_col='target')"
   ]
  },
  {
   "cell_type": "markdown",
   "metadata": {},
   "source": [
    "# Model Explanation"
   ]
  },
  {
   "cell_type": "code",
   "execution_count": 13,
   "metadata": {},
   "outputs": [
    {
     "name": "stdout",
     "output_type": "stream",
     "text": [
      "              precision    recall  f1-score   support\n",
      "\n",
      "           0       1.00      1.00      1.00        12\n",
      "           1       0.92      0.85      0.88        13\n",
      "           2       0.86      0.92      0.89        13\n",
      "\n",
      "    accuracy                           0.92        38\n",
      "   macro avg       0.92      0.92      0.92        38\n",
      "weighted avg       0.92      0.92      0.92        38\n",
      "\n",
      "[[12  0  0]\n",
      " [ 0 11  2]\n",
      " [ 0  1 12]]\n"
     ]
    },
    {
     "name": "stderr",
     "output_type": "stream",
     "text": [
      "C:\\Users\\flyod\\Anaconda3\\lib\\site-packages\\dabl\\explain.py:31: UserWarning: Can't plot roc curve, install sklearn 0.22-dev\n",
      "  warn(\"Can't plot roc curve, install sklearn 0.22-dev\")\n"
     ]
    },
    {
     "data": {
      "image/png": "[encoded data removed]",
      "text/plain": [
       "<Figure size 864x216 with 3 Axes>"
      ]
     },
     "metadata": {
      "needs_background": "light"
     },
     "output_type": "display_data"
    }
   ],
   "source": [
    "dabl.explain(ac,X_val=df_test,target_col='target')"
   ]
  },
  {
   "cell_type": "markdown",
   "metadata": {},
   "source": [
    "# Prediction"
   ]
  },
  {
   "cell_type": "code",
   "execution_count": 14,
   "metadata": {},
   "outputs": [
    {
     "data": {
      "text/plain": [
       "array(['0', '2', '1', '0', '2', '2', '1', '2', '0', '2'], dtype=object)"
      ]
     },
     "execution_count": 14,
     "metadata": {},
     "output_type": "execute_result"
    }
   ],
   "source": [
    "ac.predict(x.sample(10))"
   ]
  }
 ],
 "metadata": {
  "kernelspec": {
   "display_name": "Python 3",
   "language": "python",
   "name": "python3"
  },
  "language_info": {
   "codemirror_mode": {
    "name": "ipython",
    "version": 3
   },
   "file_extension": ".py",
   "mimetype": "text/x-python",
   "name": "python",
   "nbconvert_exporter": "python",
   "pygments_lexer": "ipython3",
   "version": "3.7.4"
  }
 },
 "nbformat": 4,
 "nbformat_minor": 2
}
